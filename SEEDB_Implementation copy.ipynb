{
  "cells": [
    {
      "cell_type": "markdown",
      "metadata": {
        "id": "ho9sb6b38vKP"
      },
      "source": [
        "### Install"
      ]
    },
    {
      "cell_type": "code",
      "execution_count": 67,
      "metadata": {
        "colab": {
          "base_uri": "https://localhost:8080/"
        },
        "id": "Sx21Bn6k4f87",
        "outputId": "d64bb89a-eb8c-4723-bfdc-ea1fde1499c0"
      },
      "outputs": [],
      "source": [
        "#pip install ucimlrepo"
      ]
    },
    {
      "cell_type": "markdown",
      "metadata": {
        "id": "ZjFqv0XS8qU0"
      },
      "source": [
        "### Imports"
      ]
    },
    {
      "cell_type": "code",
      "execution_count": 68,
      "metadata": {
        "id": "lfsj2L--7Zcw"
      },
      "outputs": [],
      "source": [
        "# Imports\n",
        "from ucimlrepo import fetch_ucirepo\n",
        "import pandas as pd\n",
        "import psycopg2\n",
        "from collections import defaultdict\n",
        "from scipy import stats as kl\n",
        "from decimal import Decimal\n",
        "import numpy as np\n",
        "from scipy.stats import entropy, wasserstein_distance\n",
        "from itertools import product\n",
        "import matplotlib.pyplot as plt\n",
        "from itertools import product\n"
      ]
    },
    {
      "cell_type": "code",
      "execution_count": 69,
      "metadata": {
        "colab": {
          "base_uri": "https://localhost:8080/",
          "height": 430
        },
        "id": "h7HvdTUODsDF",
        "outputId": "121b2840-4e53-46f3-f681-46862e046b99"
      },
      "outputs": [],
      "source": [
        "# connection = psycopg2.connect(database=\"Project645\", user=\"vaishnavishah\", password=\"10jan2001\", host=\"localhost\", port=5432)\n",
        "connection = psycopg2.connect(database=\"Project645\", user=\"postgres\", password=\"Rajada1234@\", host=\"localhost\", port=5433)\n",
        "#connection = psycopg2.connect(database=\"seedb\", user=\"postgres\", password=\"nineten910\", host=\"localhost\", port=5432)\n",
        "cursor = connection.cursor()\n"
      ]
    },
    {
      "cell_type": "code",
      "execution_count": 70,
      "metadata": {},
      "outputs": [
        {
          "name": "stdout",
          "output_type": "stream",
          "text": [
            "[('Self-emp-not-inc',), ('Private',), ('Private',), ('Private',), ('Private',)]\n"
          ]
        }
      ],
      "source": [
        "# checking execution\n",
        "query = \"select workclass from married limit 5;\"\n",
        "\n",
        "cursor.execute(query)\n",
        "record = cursor.fetchall()\n",
        "print(record)"
      ]
    },
    {
      "cell_type": "code",
      "execution_count": 71,
      "metadata": {},
      "outputs": [],
      "source": [
        "aggregation_functions = ['avg', 'sum', 'max', 'min', 'count']\n",
        "group_by_columns = [\n",
        "    'workclass',\n",
        "    'education',\n",
        "    'occupation',\n",
        "    'relationship',\n",
        "    'race',\n",
        "    'sex',\n",
        "    'native_country',\n",
        "    'income'\n",
        "]\n",
        "measure_columns = [\n",
        "    'age',\n",
        "    'fnlwgt',\n",
        "    'education_num',\n",
        "    'capital_gain',\n",
        "    'capital_loss',\n",
        "    'hours_per_week'\n",
        "]"
      ]
    },
    {
      "cell_type": "code",
      "execution_count": 72,
      "metadata": {},
      "outputs": [],
      "source": [
        "# FORMULAS \n",
        "\n",
        "# min_fl = np.finfo(float).eps\n",
        "# def kl_distance(target, reference):\n",
        "#     # print('Target ',target)\n",
        "#     # print('Ref ',reference)\n",
        "#     target = dict(target)\n",
        "#     reference = dict(reference)\n",
        "\n",
        "#     t = list()\n",
        "#     r = list()\n",
        "\n",
        "#     # we need this because this ensures that there are the same number of categories in each distribution\n",
        "#     for key in set().union(target.keys(), reference.keys()):\n",
        "#         t_val = float(target.get(key, 0))\n",
        "#         r_val = float(reference.get(key, 0))\n",
        "#         t.append(t_val)\n",
        "#         r.append(r_val)\n",
        "\n",
        "\n",
        "#     # normalize to create a probability distribution\n",
        "#     t = np.asarray(t) / (np.sum(t) or 1.0)\n",
        "#     r = np.asarray(r) / (np.sum(r) or 1.0)\n",
        "#     t = [max(x, min_fl) for x in t]\n",
        "#     r = [max(x, min_fl) for x in r]\n",
        "\n",
        "\n",
        "#     return entropy(t, r)\n",
        "\n",
        "min_fl = np.finfo(float).eps\n",
        "\n",
        "def kl_distance(target, reference):\n",
        "    target = dict(target)\n",
        "    reference = dict(reference)\n",
        "\n",
        "    t = []\n",
        "    r = []\n",
        "\n",
        "    # We need this to ensure the same number of categories in each distribution\n",
        "    for key in set().union(target.keys(), reference.keys()):\n",
        "        t_val = float(target.get(key, 0))\n",
        "        r_val = float(reference.get(key, 0))\n",
        "        t.append(t_val)\n",
        "        r.append(r_val)\n",
        "\n",
        "    # Normalize to create a probability distribution\n",
        "    t_sum = np.sum(t) or 1.0\n",
        "    r_sum = np.sum(r) or 1.0\n",
        "    t = np.asarray(t) / t_sum\n",
        "    r = np.asarray(r) / r_sum\n",
        "    t = np.maximum(t, min_fl)\n",
        "    r = np.maximum(r, min_fl)\n",
        "\n",
        "    entropy_cal = np.sum(t * np.log(t / r))\n",
        "\n",
        "    return entropy_cal\n",
        "\n",
        "def hoeffding_serfling_interval(phase, num_phases, delta):\n",
        "    phase = float(phase)\n",
        "    num_phases = float(phase)\n",
        "    numerator = (1 - ((phase - 1) / num_phases)) * (2 * np.log(np.log(phase)) + np.log((np.pi * np.pi) / (3 * delta)))\n",
        "    epsilon_m = np.sqrt(numerator / (2 * phase))\n",
        "    return epsilon_m"
      ]
    },
    {
      "cell_type": "code",
      "execution_count": 73,
      "metadata": {},
      "outputs": [],
      "source": [
        "# age,workclass,fnlwgt,education,education-num,marital-status,occupation,relationship,race,sex,capital-gain,capital-loss,hours-per-week,native-country"
      ]
    },
    {
      "cell_type": "code",
      "execution_count": 74,
      "metadata": {},
      "outputs": [],
      "source": [
        "def calculate_top_k(cur, views_ls, top_k=5, verbose=False):\n",
        "    results = list()\n",
        "    query = \"select {group}, {func}({m_col}) from {table} {where} group by {group};\"\n",
        "    for group, views in views_ls.items():\n",
        "        for view in views:\n",
        "            _, func, m_col = view\n",
        "            target_query = query.format(group=group,\n",
        "                                        func=func,\n",
        "                                        m_col=m_col,\n",
        "                                        table='married',\n",
        "                                        where=\"\"\n",
        "                                        )\n",
        "\n",
        "            cur.execute(target_query)\n",
        "            target_results = cur.fetchall()\n",
        "\n",
        "            reference_query = query.format(group=group,\n",
        "                                           func=func,\n",
        "                                           m_col=m_col,\n",
        "                                           table='unmarried',\n",
        "                                           where=\"\"\n",
        "                                           )\n",
        "            cur.execute(reference_query)\n",
        "            reference_results = cur.fetchall()\n",
        "            #print('target ', target_results)\n",
        "            #print('ref: ', reference_results)\n",
        "            tmp_query = \"\"\"\n",
        "            SELECT COALESCE(t.{group}, r.{group}) AS {group},\n",
        "                COALESCE(t.target_{func}_{m_col}, 0) AS target_{func}_{m_col},\n",
        "                COALESCE(r.reference_{func}_{m_col}, 0) AS reference_{func}_{m_col}\n",
        "            FROM (\n",
        "                -- Target results\n",
        "                SELECT {group}, {func}({m_col}) AS target_{func}_{m_col}\n",
        "                FROM married\n",
        "                GROUP BY {group}\n",
        "            ) AS t\n",
        "            INNER JOIN (\n",
        "                -- Reference results\n",
        "                SELECT {group}, {func}({m_col}) AS reference_{func}_{m_col}\n",
        "                FROM {table_reference}\n",
        "                GROUP BY {group}\n",
        "            ) AS r ON t.{group} = r.{group};\n",
        "            \"\"\".format(\n",
        "                group=group,\n",
        "                func=func,\n",
        "                m_col=m_col,\n",
        "                where_target='',  \n",
        "                table_reference='unmarried',\n",
        "            )\n",
        "            #print('combiend ', tmp_query)\n",
        "            cur.execute(tmp_query)\n",
        "            combined_results = cur.fetchall()\n",
        "            #print(combined_results)\n",
        "            target_results = [(group, target_measure) for group, target_measure, _ in combined_results]\n",
        "            reference_results = [(group, ref_measure) for group, _, ref_measure in combined_results]\n",
        "\n",
        "            #print('target ',target_results)\n",
        "            #print('ref ',reference_results)\n",
        "            dist = kl_distance(target_results, reference_results)\n",
        "            #print(dist)\n",
        "            results.append((view, dist))\n",
        "            #print(results)\n",
        "            if verbose:\n",
        "                print (\"{}, {}, {}\".format(group, func, m_col), dist)\n",
        "    return list(reversed(sorted(results, key=lambda x: x[1])))[:top_k]"
      ]
    },
    {
      "cell_type": "code",
      "execution_count": 75,
      "metadata": {},
      "outputs": [],
      "source": [
        "def naive_search(cur, views_ls, top_k=5, verbose=False):\n",
        "\n",
        "    grouped_views = defaultdict(list)\n",
        "\n",
        "    for view in views_ls:\n",
        "        grouper = view[0]\n",
        "        grouped_views[grouper].append(view)\n",
        "\n",
        "    \n",
        "    return calculate_top_k(cur, grouped_views, top_k, verbose)\n"
      ]
    },
    {
      "cell_type": "code",
      "execution_count": 76,
      "metadata": {},
      "outputs": [],
      "source": [
        "# views_ls = []\n",
        "# for a in group_by_columns:\n",
        "#     for f in aggregation_functions:\n",
        "#         for m in measure_columns:\n",
        "#             views_ls.append((a,f,m))\n",
        "# naive_search(cursor, views_ls, 5)"
      ]
    },
    {
      "cell_type": "code",
      "execution_count": 77,
      "metadata": {},
      "outputs": [],
      "source": [
        "def sharing_based_search(cur, views_ls, top_k=5, verbose=False):\n",
        "\n",
        "    grouped_views = defaultdict(list)\n",
        "\n",
        "    for view in views_ls:\n",
        "        grouper = view[0]\n",
        "        grouped_views[grouper].append(view)\n",
        "\n",
        "    return calculate_top_k(cur, grouped_views, top_k, verbose)"
      ]
    },
    {
      "cell_type": "code",
      "execution_count": 78,
      "metadata": {},
      "outputs": [],
      "source": [
        "def pruning_based_search(cur, views, top_k=5, verbose=False):\n",
        "    mean_utils = {}\n",
        "\n",
        "    for view, utility in sharing_based_search(cur, views, top_k=None):\n",
        "        mean_utils[view] = (mean_utils.get(view, 0) + utility) / 2\n",
        "\n",
        "    sorted_utils = sorted(mean_utils.values())\n",
        "    max_utility = sorted_utils[-1]\n",
        "    kth_utility = sorted_utils[-top_k] / max_utility\n",
        "\n",
        "    for i in range(len(views)):\n",
        "        if i == 0:\n",
        "            if verbose:\n",
        "                print(\"No pruning on the first iteration due to NaN epsilon.\")\n",
        "            continue\n",
        "\n",
        "        epsilon = hoeffding_serfling_interval(i + 1, len(views), 0.1) \n",
        "\n",
        "        not_pruned_views = [v for v in views if (mean_utils[v] / max_utility + epsilon) >= (kth_utility - epsilon)]\n",
        "        if verbose:\n",
        "            print(\"Iteration %d: Pruned %d views.\" % (i, len(views) - len(not_pruned_views)))\n",
        "\n",
        "        views = not_pruned_views[:]\n",
        "\n",
        "    if verbose:\n",
        "        print(\"Finished with %d views.\" % len(views))\n",
        "\n",
        "    return sharing_based_search(cur, views, top_k, verbose)\n"
      ]
    },
    {
      "cell_type": "code",
      "execution_count": 79,
      "metadata": {},
      "outputs": [],
      "source": [
        "# views_ls = []\n",
        "# for a in group_by_columns:\n",
        "#     for f in aggregation_functions:\n",
        "#         for m in measure_columns:\n",
        "#             views_ls.append((a,f,m))\n",
        "\n",
        "\n",
        "# top_5_prun = pruning_based_search(cursor, views_ls,verbose=True)\n",
        "# top_5_prun"
      ]
    },
    {
      "cell_type": "code",
      "execution_count": 80,
      "metadata": {},
      "outputs": [],
      "source": [
        "# views_ls = []\n",
        "# for a in group_by_columns:\n",
        "#     for f in aggregation_functions:\n",
        "#         for m in measure_columns:\n",
        "#             views_ls.append((a,f,m))\n",
        "# top_5_shar = sharing_based_search(cursor, views_ls, verbose=False)\n",
        "# top_5_shar"
      ]
    },
    {
      "cell_type": "code",
      "execution_count": 81,
      "metadata": {},
      "outputs": [],
      "source": [
        "def visualise(view, names, utility):\n",
        "    width=0.35\n",
        "    index = np.arange(len(names))\n",
        "\n",
        "    fig, ax = plt.subplots(figsize=(10, 6)) \n",
        "    \n",
        "    light_pink = '#FFB6C1'  \n",
        "    pastel_blue = '#AEC6CF' \n",
        "\n",
        "    t_bar = ax.bar(index, t, width, color=light_pink)\n",
        "    r_bar = ax.bar(index + width, r, width, color=pastel_blue)\n",
        "    \n",
        "    ax.set_title(\"{f}({m}) Grouped by {g} (Measure = {measure}, Utility = {util})\".format(f=view[1],\n",
        "    m=view[2],\n",
        "    g=view[0],\n",
        "    measure=\"KLD\",\n",
        "    util=utility),\n",
        "    fontsize=16, color='navy')  \n",
        "    ax.set_ylabel(\"{f}({m})\".format(f=view[1], m=view[2]), fontsize=14, color='purple')  \n",
        "    ax.set_xlabel(\"Categories of {g}\".format(g=view[0]), fontsize=14, color='green') \n",
        "    ax.set_xticks(index + width / 2)\n",
        "    ax.set_xticklabels(names, fontsize=12, color='gray', rotation=45)  \n",
        "\n",
        "    ax.legend((t_bar[0], r_bar[0]), ('Married', 'Unmarried'), loc='upper right', fontsize=12)\n",
        "\n",
        "    ax.grid(True, linestyle='--', linewidth=0.5, color='lightgray')  \n",
        "\n",
        "    ax.spines['top'].set_visible(False)\n",
        "    ax.spines['right'].set_visible(False)\n",
        "\n",
        "    plt.tight_layout()  \n",
        "    plt.show()"
      ]
    },
    {
      "cell_type": "code",
      "execution_count": 82,
      "metadata": {},
      "outputs": [
        {
          "ename": "TypeError",
          "evalue": "unsupported operand type(s) for /: 'list' and 'list'",
          "output_type": "error",
          "traceback": [
            "\u001b[0;31m---------------------------------------------------------------------------\u001b[0m",
            "\u001b[0;31mTypeError\u001b[0m                                 Traceback (most recent call last)",
            "Cell \u001b[0;32mIn[82], line 12\u001b[0m\n\u001b[1;32m      8\u001b[0m             views_ls\u001b[38;5;241m.\u001b[39mappend((a,f,m))\n\u001b[1;32m     11\u001b[0m \u001b[38;5;28;01mfor\u001b[39;00m i \u001b[38;5;129;01min\u001b[39;00m \u001b[38;5;28mrange\u001b[39m(\u001b[38;5;241m1\u001b[39m):\n\u001b[0;32m---> 12\u001b[0m     top_5 \u001b[38;5;241m=\u001b[39m \u001b[43mpruning_based_search\u001b[49m\u001b[43m(\u001b[49m\u001b[43mcursor\u001b[49m\u001b[43m,\u001b[49m\u001b[43m \u001b[49m\u001b[43mviews_ls\u001b[49m\u001b[43m,\u001b[49m\u001b[43mverbose\u001b[49m\u001b[38;5;241;43m=\u001b[39;49m\u001b[38;5;28;43;01mTrue\u001b[39;49;00m\u001b[43m)\u001b[49m\n\u001b[1;32m     14\u001b[0m     \u001b[38;5;66;03m#top_5 = sharing_based_search(cursor, views_ls, verbose=False)\u001b[39;00m\n\u001b[1;32m     16\u001b[0m \u001b[38;5;28;01mfor\u001b[39;00m view, utility \u001b[38;5;129;01min\u001b[39;00m top_5:\n",
            "Cell \u001b[0;32mIn[78], line 4\u001b[0m, in \u001b[0;36mpruning_based_search\u001b[0;34m(cur, views, top_k, verbose)\u001b[0m\n\u001b[1;32m      1\u001b[0m \u001b[38;5;28;01mdef\u001b[39;00m \u001b[38;5;21mpruning_based_search\u001b[39m(cur, views, top_k\u001b[38;5;241m=\u001b[39m\u001b[38;5;241m5\u001b[39m, verbose\u001b[38;5;241m=\u001b[39m\u001b[38;5;28;01mFalse\u001b[39;00m):\n\u001b[1;32m      2\u001b[0m     mean_utils \u001b[38;5;241m=\u001b[39m {}\n\u001b[0;32m----> 4\u001b[0m     \u001b[38;5;28;01mfor\u001b[39;00m view, utility \u001b[38;5;129;01min\u001b[39;00m \u001b[43msharing_based_search\u001b[49m\u001b[43m(\u001b[49m\u001b[43mcur\u001b[49m\u001b[43m,\u001b[49m\u001b[43m \u001b[49m\u001b[43mviews\u001b[49m\u001b[43m,\u001b[49m\u001b[43m \u001b[49m\u001b[43mtop_k\u001b[49m\u001b[38;5;241;43m=\u001b[39;49m\u001b[38;5;28;43;01mNone\u001b[39;49;00m\u001b[43m)\u001b[49m:\n\u001b[1;32m      5\u001b[0m         mean_utils[view] \u001b[38;5;241m=\u001b[39m (mean_utils\u001b[38;5;241m.\u001b[39mget(view, \u001b[38;5;241m0\u001b[39m) \u001b[38;5;241m+\u001b[39m utility) \u001b[38;5;241m/\u001b[39m \u001b[38;5;241m2\u001b[39m\n\u001b[1;32m      7\u001b[0m     sorted_utils \u001b[38;5;241m=\u001b[39m \u001b[38;5;28msorted\u001b[39m(mean_utils\u001b[38;5;241m.\u001b[39mvalues())\n",
            "Cell \u001b[0;32mIn[77], line 9\u001b[0m, in \u001b[0;36msharing_based_search\u001b[0;34m(cur, views_ls, top_k, verbose)\u001b[0m\n\u001b[1;32m      6\u001b[0m     grouper \u001b[38;5;241m=\u001b[39m view[\u001b[38;5;241m0\u001b[39m]\n\u001b[1;32m      7\u001b[0m     grouped_views[grouper]\u001b[38;5;241m.\u001b[39mappend(view)\n\u001b[0;32m----> 9\u001b[0m \u001b[38;5;28;01mreturn\u001b[39;00m \u001b[43mcalculate_top_k\u001b[49m\u001b[43m(\u001b[49m\u001b[43mcur\u001b[49m\u001b[43m,\u001b[49m\u001b[43m \u001b[49m\u001b[43mgrouped_views\u001b[49m\u001b[43m,\u001b[49m\u001b[43m \u001b[49m\u001b[43mtop_k\u001b[49m\u001b[43m,\u001b[49m\u001b[43m \u001b[49m\u001b[43mverbose\u001b[49m\u001b[43m)\u001b[49m\n",
            "Cell \u001b[0;32mIn[74], line 59\u001b[0m, in \u001b[0;36mcalculate_top_k\u001b[0;34m(cur, views_ls, top_k, verbose)\u001b[0m\n\u001b[1;32m     55\u001b[0m reference_results \u001b[38;5;241m=\u001b[39m [(group, ref_measure) \u001b[38;5;28;01mfor\u001b[39;00m group, _, ref_measure \u001b[38;5;129;01min\u001b[39;00m combined_results]\n\u001b[1;32m     57\u001b[0m \u001b[38;5;66;03m#print('target ',target_results)\u001b[39;00m\n\u001b[1;32m     58\u001b[0m \u001b[38;5;66;03m#print('ref ',reference_results)\u001b[39;00m\n\u001b[0;32m---> 59\u001b[0m dist \u001b[38;5;241m=\u001b[39m \u001b[43mkl_distance\u001b[49m\u001b[43m(\u001b[49m\u001b[43mtarget_results\u001b[49m\u001b[43m,\u001b[49m\u001b[43m \u001b[49m\u001b[43mreference_results\u001b[49m\u001b[43m)\u001b[49m\n\u001b[1;32m     60\u001b[0m \u001b[38;5;66;03m#print(dist)\u001b[39;00m\n\u001b[1;32m     61\u001b[0m results\u001b[38;5;241m.\u001b[39mappend((view, dist))\n",
            "Cell \u001b[0;32mIn[72], line 27\u001b[0m, in \u001b[0;36mkl_distance\u001b[0;34m(target, reference)\u001b[0m\n\u001b[1;32m     24\u001b[0m t \u001b[38;5;241m=\u001b[39m [\u001b[38;5;28mmax\u001b[39m(x, min_fl) \u001b[38;5;28;01mfor\u001b[39;00m x \u001b[38;5;129;01min\u001b[39;00m t]\n\u001b[1;32m     25\u001b[0m r \u001b[38;5;241m=\u001b[39m [\u001b[38;5;28mmax\u001b[39m(x, min_fl) \u001b[38;5;28;01mfor\u001b[39;00m x \u001b[38;5;129;01min\u001b[39;00m r]\n\u001b[0;32m---> 27\u001b[0m entropy_cal \u001b[38;5;241m=\u001b[39m np\u001b[38;5;241m.\u001b[39msum(t \u001b[38;5;241m*\u001b[39m np\u001b[38;5;241m.\u001b[39mlog(\u001b[43mt\u001b[49m\u001b[43m \u001b[49m\u001b[38;5;241;43m/\u001b[39;49m\u001b[43m \u001b[49m\u001b[43mr\u001b[49m))\n\u001b[1;32m     29\u001b[0m \u001b[38;5;28;01mreturn\u001b[39;00m entropy_cal(t, r)\n",
            "\u001b[0;31mTypeError\u001b[0m: unsupported operand type(s) for /: 'list' and 'list'"
          ]
        }
      ],
      "source": [
        "if __name__ == \"__main__\":\n",
        "\n",
        "   \n",
        "    views_ls = []\n",
        "    for a in group_by_columns:\n",
        "        for f in aggregation_functions:\n",
        "            for m in measure_columns:\n",
        "                views_ls.append((a,f,m))\n",
        "\n",
        "\n",
        "    for i in range(1):\n",
        "        top_5 = pruning_based_search(cursor, views_ls,verbose=True)\n",
        "\n",
        "        #top_5 = sharing_based_search(cursor, views_ls, verbose=False)\n",
        "\n",
        "    for view, utility in top_5:\n",
        "        print (view, utility)\n",
        "\n",
        "        cursor.execute(\"select {g}, {f}({m}) from married group by {g};\".format(g=view[0], f=view[1], m=view[2]))\n",
        "        target = dict(cursor.fetchall())\n",
        "\n",
        "        cursor.execute(\"select {g}, {f}({m}) from unmarried group by {g};\".format(g=view[0], f=view[1], m=view[2]))\n",
        "        reference = dict(cursor.fetchall())\n",
        "\n",
        "        t = list()\n",
        "        r = list()\n",
        "        names = list()\n",
        "\n",
        "        for key in set().union(target.keys(), reference.keys()):\n",
        "            names.append(key)\n",
        "            t_val = float(target.get(key, 0))\n",
        "            r_val = float(reference.get(key, 0))\n",
        "            t.append(t_val)\n",
        "            r.append(r_val)\n",
        "        \n",
        "        visualise(view, names, utility)\n",
        "\n",
        "    connection.commit() "
      ]
    },
    {
      "cell_type": "code",
      "execution_count": null,
      "metadata": {},
      "outputs": [],
      "source": [
        "cursor.close()\n",
        "connection.close()"
      ]
    },
    {
      "cell_type": "code",
      "execution_count": null,
      "metadata": {},
      "outputs": [],
      "source": [
        "# age,workclass,fnlwgt,education,education-num,marital-status,occupation,relationship,race,sex,capital-gain,capital-loss,hours-per-week,native-country"
      ]
    }
  ],
  "metadata": {
    "accelerator": "GPU",
    "colab": {
      "gpuType": "T4",
      "provenance": []
    },
    "kernelspec": {
      "display_name": "Python 3",
      "name": "python3"
    },
    "language_info": {
      "codemirror_mode": {
        "name": "ipython",
        "version": 3
      },
      "file_extension": ".py",
      "mimetype": "text/x-python",
      "name": "python",
      "nbconvert_exporter": "python",
      "pygments_lexer": "ipython3",
      "version": "3.11.7"
    }
  },
  "nbformat": 4,
  "nbformat_minor": 0
}
