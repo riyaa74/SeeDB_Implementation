{
  "cells": [
    {
      "cell_type": "markdown",
      "metadata": {
        "id": "ho9sb6b38vKP"
      },
      "source": [
        "### Install"
      ]
    },
    {
      "cell_type": "code",
      "execution_count": 152,
      "metadata": {
        "colab": {
          "base_uri": "https://localhost:8080/"
        },
        "id": "Sx21Bn6k4f87",
        "outputId": "d64bb89a-eb8c-4723-bfdc-ea1fde1499c0"
      },
      "outputs": [],
      "source": [
        "#pip install ucimlrepo"
      ]
    },
    {
      "cell_type": "code",
      "execution_count": 153,
      "metadata": {},
      "outputs": [],
      "source": [
        "#pip install psycopg2"
      ]
    },
    {
      "cell_type": "markdown",
      "metadata": {
        "id": "ZjFqv0XS8qU0"
      },
      "source": [
        "### Imports"
      ]
    },
    {
      "cell_type": "code",
      "execution_count": 154,
      "metadata": {
        "id": "lfsj2L--7Zcw"
      },
      "outputs": [],
      "source": [
        "# Imports\n",
        "from ucimlrepo import fetch_ucirepo\n",
        "import pandas as pd\n",
        "import psycopg2\n",
        "from collections import defaultdict\n",
        "from scipy.stats import entropy\n",
        "from scipy import stats as kl\n",
        "from decimal import Decimal"
      ]
    },
    {
      "cell_type": "code",
      "execution_count": 155,
      "metadata": {
        "colab": {
          "base_uri": "https://localhost:8080/",
          "height": 430
        },
        "id": "h7HvdTUODsDF",
        "outputId": "121b2840-4e53-46f3-f681-46862e046b99"
      },
      "outputs": [],
      "source": [
        "connection = psycopg2.connect(database=\"Project645\", user=\"vaishnavishah\", password=\"10jan2001\", host=\"localhost\", port=5432)\n",
        "\n",
        "#cursor = connection.cursor()\n"
      ]
    },
    {
      "cell_type": "code",
      "execution_count": 156,
      "metadata": {},
      "outputs": [],
      "source": [
        "# cursor.execute(\"SELECT * from unmarried;\")\n",
        "# record = cursor.fetchall()\n",
        "# unmarried_df = pd.DataFrame(record, columns=col_names)"
      ]
    },
    {
      "cell_type": "code",
      "execution_count": 157,
      "metadata": {
        "id": "M5s61KeaT86q"
      },
      "outputs": [],
      "source": [
        "# cursor.execute(\"SELECT * from married;\")\n",
        "# record = cursor.fetchall()\n",
        "# married_df = pd.DataFrame(record, columns=col_names)"
      ]
    },
    {
      "cell_type": "code",
      "execution_count": 158,
      "metadata": {},
      "outputs": [],
      "source": [
        "results_kl = defaultdict(list)"
      ]
    },
    {
      "cell_type": "code",
      "execution_count": 159,
      "metadata": {},
      "outputs": [],
      "source": [
        "views = []\n",
        "aggregate = [\"COUNT\", \"AVG\", \"SUM\", \"MIN\", \"MAX\"]  \n",
        "discrete = [\"age\", \"workclass\"]  \n",
        "continuous = [\"hours_per_week\", \"capital_gain\"]  \n",
        "\n",
        "k=10\n",
        "num_partitions=20\n",
        "delta= 0.01"
      ]
    },
    {
      "cell_type": "code",
      "execution_count": 160,
      "metadata": {},
      "outputs": [],
      "source": [
        "for f in aggregate:\n",
        "    for a in discrete:\n",
        "        for m in continuous:\n",
        "            views.append((a, m, f))"
      ]
    },
    {
      "cell_type": "code",
      "execution_count": 161,
      "metadata": {},
      "outputs": [],
      "source": [
        "def get_all_views():\n",
        "    views=[]\n",
        "    for f in aggregate:\n",
        "        for a in discrete:\n",
        "            for m in continuous:\n",
        "                views.append((a,m,f))\n",
        "    return views\n",
        "\n",
        "def get_query_result( conn, query ) :\n",
        "    cur = conn.cursor()\n",
        "    cur.execute( query )\n",
        "    return cur\n",
        "\n",
        "def normalize(f_list_1,f_list_2):\n",
        "    sum_1=sum(f_list_1)\n",
        "    sum_2=sum(f_list_2)\n",
        "    norm_1 = [i/sum_1 for i in f_list_1]\n",
        "    norm_2=[i/sum_2 for i in f_list_2]\n",
        "    return norm_1,norm_2\n",
        "\n",
        "def get_utility(f_list_1,f_list_2):\n",
        "    nf_1,nf_2=normalize(f_list_1,f_list_2)\n",
        "    nf_1=[float(x) for x in nf_1]\n",
        "    nf_2=[float(x) for x in nf_2]\n",
        "    return kl.entropy(nf_1,nf_2)\n",
        "\n",
        "\n",
        "def get_top_k(dict_kl, k):\n",
        "    return sorted(dict_kl.items(), key= lambda item: item[1], reverse=True)[:k]\n",
        "\n",
        "def get_iter(d):\n",
        "    if isinstance(d,dict):\n",
        "        return d.items()\n",
        "    else: #cursor\n",
        "        return d.fetchall()\n",
        "\n",
        "def get_agg_lists(o_1,o_2):\n",
        "    dict_res = defaultdict(list)\n",
        "    f_list_1 = []\n",
        "    f_list_2 = []\n",
        "    for k,v in get_iter(o_1):\n",
        "        if v != 0:\n",
        "            dict_res[k].append(v)\n",
        "        else:\n",
        "            dict_res[k].append(Decimal(1e-10))\n",
        "    for k,v in get_iter(o_2):\n",
        "        if k not in dict_res:\n",
        "            dict_res[k].append(Decimal(1e-10))\n",
        "        if v != 0:\n",
        "            dict_res[k].append(v)\n",
        "        else:\n",
        "            dict_res[k].append(Decimal(1e-10))\n",
        "    for k,v in dict_res.items():\n",
        "        if len(v) != 2:\n",
        "            dict_res[k].append(Decimal(1e-10))\n",
        "    for i in dict_res.values():\n",
        "        f_list_1.append(i[0])\n",
        "        f_list_2.append(i[1])\n",
        "    return f_list_1,f_list_2\n"
      ]
    },
    {
      "cell_type": "code",
      "execution_count": 162,
      "metadata": {},
      "outputs": [
        {
          "data": {
            "text/plain": [
              "[(('age', 'capital_gain', 'AVG'), [6.238480995536909]),\n",
              " (('age', 'hours_per_week', 'MIN'), [3.238200817020985]),\n",
              " (('age', 'capital_gain', 'MAX'), [1.8147251653770289]),\n",
              " (('age', 'capital_gain', 'SUM'), [0.5765073642086408]),\n",
              " (('age', 'hours_per_week', 'AVG'), [0.565223313172089]),\n",
              " (('age', 'hours_per_week', 'COUNT'), [0.399257399242306]),\n",
              " (('age', 'capital_gain', 'COUNT'), [0.399257399242306]),\n",
              " (('age', 'hours_per_week', 'SUM'), [0.3324075749358738]),\n",
              " (('age', 'hours_per_week', 'MAX'), [0.29199732493276814]),\n",
              " (('workclass', 'hours_per_week', 'MIN'), [0.15799483973604933])]"
            ]
          },
          "execution_count": 162,
          "metadata": {},
          "output_type": "execute_result"
        }
      ],
      "source": [
        "dict_kl=defaultdict(list)\n",
        "views=get_all_views()\n",
        "for a,m,f in views:\n",
        "    #print (a,f,m)\n",
        "    q1='select '+a+', '+f+'('+m+') from married where '+a+' is not null group by '+a+' order by '+a+';'\n",
        "    q2='select '+a+', '+f+'('+m+') from unmarried where '+a+' is not null group by '+a+' order by '+a+';'\n",
        "    #print(q1, q2)\n",
        "    res_1=get_query_result(connection, q1)\n",
        "    res_2=get_query_result(connection, q2)\n",
        "    f_list_1,f_list_2 = get_agg_lists(res_1,res_2)\n",
        "    dict_kl[a,m,f].append(get_utility(f_list_1,f_list_2))\n",
        "\n",
        "get_top_k(dict_kl, k)"
      ]
    }
  ],
  "metadata": {
    "accelerator": "GPU",
    "colab": {
      "gpuType": "T4",
      "provenance": []
    },
    "kernelspec": {
      "display_name": "Python 3",
      "name": "python3"
    },
    "language_info": {
      "codemirror_mode": {
        "name": "ipython",
        "version": 3
      },
      "file_extension": ".py",
      "mimetype": "text/x-python",
      "name": "python",
      "nbconvert_exporter": "python",
      "pygments_lexer": "ipython3",
      "version": "3.11.7"
    }
  },
  "nbformat": 4,
  "nbformat_minor": 0
}
