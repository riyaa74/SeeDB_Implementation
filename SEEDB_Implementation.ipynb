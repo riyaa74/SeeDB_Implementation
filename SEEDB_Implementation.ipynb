{
  "cells": [
    {
      "cell_type": "markdown",
      "metadata": {
        "id": "ho9sb6b38vKP"
      },
      "source": [
        "### Install"
      ]
    },
    {
      "cell_type": "code",
      "execution_count": 268,
      "metadata": {
        "colab": {
          "base_uri": "https://localhost:8080/"
        },
        "id": "Sx21Bn6k4f87",
        "outputId": "d64bb89a-eb8c-4723-bfdc-ea1fde1499c0"
      },
      "outputs": [],
      "source": [
        "#pip install ucimlrepo"
      ]
    },
    {
      "cell_type": "code",
      "execution_count": 269,
      "metadata": {},
      "outputs": [],
      "source": [
        "#pip install psycopg2"
      ]
    },
    {
      "cell_type": "markdown",
      "metadata": {
        "id": "ZjFqv0XS8qU0"
      },
      "source": [
        "### Imports"
      ]
    },
    {
      "cell_type": "code",
      "execution_count": 288,
      "metadata": {
        "id": "lfsj2L--7Zcw"
      },
      "outputs": [],
      "source": [
        "# Imports\n",
        "from ucimlrepo import fetch_ucirepo\n",
        "import pandas as pd\n",
        "import psycopg2\n",
        "from collections import defaultdict\n",
        "from scipy.stats import entropy\n",
        "from scipy import stats as kl\n",
        "from decimal import Decimal\n",
        "from scipy.stats import entropy\n",
        "import numpy as np\n"
      ]
    },
    {
      "cell_type": "code",
      "execution_count": 271,
      "metadata": {
        "colab": {
          "base_uri": "https://localhost:8080/",
          "height": 430
        },
        "id": "h7HvdTUODsDF",
        "outputId": "121b2840-4e53-46f3-f681-46862e046b99"
      },
      "outputs": [],
      "source": [
        "connection = psycopg2.connect(database=\"Project645\", user=\"vaishnavishah\", password=\"10jan2001\", host=\"localhost\", port=5432)\n",
        "\n",
        "cursor = connection.cursor()\n"
      ]
    },
    {
      "cell_type": "code",
      "execution_count": 272,
      "metadata": {},
      "outputs": [],
      "source": [
        "# cursor.execute(\"SELECT * from unmarried;\")\n",
        "# record = cursor.fetchall()\n",
        "# unmarried_df = pd.DataFrame(record, columns=['age', 'workclass', 'fnlwgt', 'education', 'education-num',\n",
        "#        'occupation', 'relationship', 'race', 'sex',\n",
        "#        'capital-gain', 'capital-loss', 'hours-per-week', 'native-country'])"
      ]
    },
    {
      "cell_type": "code",
      "execution_count": 273,
      "metadata": {},
      "outputs": [],
      "source": [
        "# unmarried_df"
      ]
    },
    {
      "cell_type": "code",
      "execution_count": 274,
      "metadata": {},
      "outputs": [],
      "source": [
        "# query = \"select workclass, sum(age) from married where workclass is not null group by workclass order by workclass;\"\n",
        "\n",
        "# cursor.execute(query)\n",
        "# record = cursor.fetchall()\n",
        "# print(record)"
      ]
    },
    {
      "cell_type": "code",
      "execution_count": 275,
      "metadata": {
        "id": "M5s61KeaT86q"
      },
      "outputs": [],
      "source": [
        "# cursor.execute(\"SELECT * from married;\")\n",
        "# record = cursor.fetchall()\n",
        "# married_df = pd.DataFrame(record, columns=col_names)"
      ]
    },
    {
      "cell_type": "code",
      "execution_count": 276,
      "metadata": {},
      "outputs": [],
      "source": [
        "results_kl = defaultdict(list)"
      ]
    },
    {
      "cell_type": "code",
      "execution_count": 277,
      "metadata": {},
      "outputs": [],
      "source": [
        "views = []\n",
        "continuous=['age','fnlwgt', 'education_num','capital_gain','capital_loss','hours_per_week']\n",
        "discrete=['workclass','education','occupation','relationship','race','sex','native_country']\n",
        "aggregate=['sum','avg','max','min','count']\n",
        "\n",
        "k=10\n",
        "num_partitions=20\n",
        "delta= 0.01"
      ]
    },
    {
      "cell_type": "code",
      "execution_count": 290,
      "metadata": {},
      "outputs": [],
      "source": [
        "def aggregate_values(o_1, o_2):\n",
        "    dict_res = defaultdict(list)\n",
        "    f_list_1 = []\n",
        "    f_list_2 = []\n",
        "\n",
        "    # Handle input 1\n",
        "    if isinstance(o_1, dict):\n",
        "        items_1 = o_1.items()\n",
        "    else:  # cursor\n",
        "        items_1 = o_1.fetchall()\n",
        "\n",
        "    # Handle input 2\n",
        "    if isinstance(o_2, dict):\n",
        "        items_2 = o_2.items()\n",
        "    else:  # cursor\n",
        "        items_2 = o_2.fetchall()\n",
        "\n",
        "    for k, v in items_1:\n",
        "        if v != 0:\n",
        "            dict_res[k].append(v)\n",
        "        else:\n",
        "            dict_res[k].append(Decimal(1e-10))\n",
        "\n",
        "    for k, v in items_2:\n",
        "        if k not in dict_res:\n",
        "            dict_res[k].append(Decimal(1e-10))\n",
        "        if v != 0:\n",
        "            dict_res[k].append(v)\n",
        "        else:\n",
        "            dict_res[k].append(Decimal(1e-10))\n",
        "\n",
        "    for k, v in dict_res.items():\n",
        "        if len(v) != 2:\n",
        "            dict_res[k].append(Decimal(1e-10))\n",
        "\n",
        "    for i in dict_res.values():\n",
        "        f_list_1.append(i[0])\n",
        "        f_list_2.append(i[1])\n",
        "\n",
        "    return f_list_1, f_list_2\n",
        "\n",
        "def get_utility(f_list_1, f_list_2):\n",
        "    # Convert Decimal objects to float\n",
        "    f_list_1 = [float(x) for x in f_list_1]\n",
        "    f_list_2 = [float(x) for x in f_list_2]\n",
        "\n",
        "    # Compute normalized lists\n",
        "    sum_1 = sum(f_list_1)\n",
        "    sum_2 = sum(f_list_2)\n",
        "    norm_1 = np.array(f_list_1) / sum_1\n",
        "    norm_2 = np.array(f_list_2) / sum_2\n",
        "\n",
        "    # Calculate entropy\n",
        "    utility = entropy(norm_1, norm_2)\n",
        "\n",
        "    return utility"
      ]
    },
    {
      "cell_type": "code",
      "execution_count": 293,
      "metadata": {},
      "outputs": [],
      "source": [
        "all_views = []\n",
        "for a in aggregate:\n",
        "    for d in discrete:\n",
        "        for c in continuous:\n",
        "            all_views.append((a,d,c))\n",
        "\n",
        "kl_res=defaultdict(list)\n",
        "for a,d,c in all_views:\n",
        "    query1 = 'select '+d+', '+a+'('+c+') from married where '+d+' is not null group by '+d+' order by '+d+';'\n",
        "    query2 = 'select '+d+', '+a+'('+c+') from unmarried where '+d+' is not null group by '+d+' order by '+d+';'\n",
        "    cursor.execute(query1)\n",
        "    query1_res = cursor\n",
        "    cursor.execute(query2)\n",
        "    query2_res = cursor\n",
        "    res1, res2 = aggregate_values(query1_res, query2_res)\n",
        "    uti = get_utility(res1, res2)\n",
        "    kl_res[a,d,c].append(uti)\n",
        "\n",
        "top_k = sorted(kl_res.items(), key= lambda item: item[1], reverse=True)[:k]"
      ]
    },
    {
      "cell_type": "code",
      "execution_count": 294,
      "metadata": {},
      "outputs": [
        {
          "data": {
            "text/plain": [
              "[(('min', 'native_country', 'capital_loss'), [3.7135720666467606]),\n",
              " (('sum', 'native_country', 'capital_gain'), [3.3605794779297864]),\n",
              " (('sum', 'native_country', 'capital_loss'), [3.3300353157652993]),\n",
              " (('sum', 'native_country', 'education_num'), [3.2429473940288993]),\n",
              " (('sum', 'native_country', 'age'), [3.2137577579000687]),\n",
              " (('count', 'native_country', 'age'), [3.206708854007431]),\n",
              " (('count', 'native_country', 'fnlwgt'), [3.206708854007431]),\n",
              " (('count', 'native_country', 'education_num'), [3.206708854007431]),\n",
              " (('count', 'native_country', 'capital_gain'), [3.206708854007431]),\n",
              " (('count', 'native_country', 'capital_loss'), [3.206708854007431])]"
            ]
          },
          "execution_count": 294,
          "metadata": {},
          "output_type": "execute_result"
        }
      ],
      "source": [
        "top_k"
      ]
    }
  ],
  "metadata": {
    "accelerator": "GPU",
    "colab": {
      "gpuType": "T4",
      "provenance": []
    },
    "kernelspec": {
      "display_name": "Python 3",
      "name": "python3"
    },
    "language_info": {
      "codemirror_mode": {
        "name": "ipython",
        "version": 3
      },
      "file_extension": ".py",
      "mimetype": "text/x-python",
      "name": "python",
      "nbconvert_exporter": "python",
      "pygments_lexer": "ipython3",
      "version": "3.11.7"
    }
  },
  "nbformat": 4,
  "nbformat_minor": 0
}
